{
 "cells": [
  {
   "cell_type": "markdown",
   "metadata": {
    "id": "Rciz4Yw6Y_LO"
   },
   "source": [
    "#   LAB 04 - Data Mining"
   ]
  },
  {
   "cell_type": "markdown",
   "metadata": {
    "id": "dYv-1LokY_LQ"
   },
   "source": [
    "## Introduction to Python"
   ]
  },
  {
   "cell_type": "markdown",
   "metadata": {
    "id": "yemg7RA0-5wr"
   },
   "source": [
    "Full Intro: https://dbdmg.polito.it/dbdmg_web/wp-content/uploads/2024/03/1-Python-Programming.pdf"
   ]
  },
  {
   "cell_type": "markdown",
   "metadata": {
    "id": "2Me6QpNA2Y8Q"
   },
   "source": [
    "### Pandas"
   ]
  },
  {
   "cell_type": "markdown",
   "metadata": {
    "id": "r5qoZS7TA9AA"
   },
   "source": [
    "Documentation: https://pandas.pydata.org/docs/"
   ]
  },
  {
   "cell_type": "code",
   "execution_count": null,
   "metadata": {
    "id": "-gIa3v_yBGVY"
   },
   "outputs": [],
   "source": [
    "import pandas as pd\n",
    "filename = 'breast.xlsx'"
   ]
  },
  {
   "cell_type": "markdown",
   "metadata": {
    "id": "ot22wvHg4LAt"
   },
   "source": [
    "Read data"
   ]
  },
  {
   "cell_type": "code",
   "execution_count": null,
   "metadata": {
    "id": "lt2Bupvv4UBP"
   },
   "outputs": [],
   "source": [
    "dataframe=pd.read_excel(filename) # read_csv(), read_excel(), read_txt()"
   ]
  },
  {
   "cell_type": "markdown",
   "metadata": {
    "id": "PRkiUuRu4PA9"
   },
   "source": [
    "Select Features"
   ]
  },
  {
   "cell_type": "code",
   "execution_count": null,
   "metadata": {
    "id": "mNrafPu_4U0m"
   },
   "outputs": [],
   "source": [
    "\n",
    "\n",
    "# see columns\n",
    "columns=dataframe.columns\n",
    "\n",
    "columns"
   ]
  },
  {
   "cell_type": "code",
   "execution_count": null,
   "metadata": {},
   "outputs": [],
   "source": [
    "dataframe.dtypes"
   ]
  },
  {
   "cell_type": "code",
   "execution_count": null,
   "metadata": {},
   "outputs": [],
   "source": [
    "dataframe.head() # show the first 5 rows"
   ]
  },
  {
   "cell_type": "code",
   "execution_count": null,
   "metadata": {},
   "outputs": [],
   "source": [
    "dataframe.tail() # show the last 5 rows"
   ]
  },
  {
   "cell_type": "code",
   "execution_count": null,
   "metadata": {},
   "outputs": [],
   "source": [
    "def clean(dataframe):\n",
    "    dataframe = dataframe.dropna()\n",
    "    dataframe = dataframe[~dataframe.apply(lambda row: '?' in row.values, axis=1)]\n",
    "    dataframe[\"node-caps\"] = dataframe[\"node-caps\"].replace({\"'no'\": 0, \"'yes'\": 1})\n",
    "    dataframe[\"breast\"] = dataframe[\"breast\"].replace({\"'right'\": 0, \"'left'\": 1})\n",
    "    dataframe[\"irradiat\"] = dataframe[\"irradiat\"].replace({\"'no'\": 0, \"'yes'\": 1})\n",
    "    dataframe[\"Class\"] = dataframe[\"Class\"].replace({\"'no-recurrence-events'\": 0, \"'recurrence-events'\": 1})\n",
    "    return dataframe"
   ]
  },
  {
   "cell_type": "code",
   "execution_count": null,
   "metadata": {},
   "outputs": [],
   "source": [
    "dataframe = clean(dataframe)\n",
    "dataframe.head()"
   ]
  },
  {
   "cell_type": "markdown",
   "metadata": {
    "id": "8Fg-aLSL4ipB"
   },
   "source": [
    "### Matplotlib"
   ]
  },
  {
   "cell_type": "markdown",
   "metadata": {
    "id": "ZPf6rd3wCH77"
   },
   "source": [
    "Documentation: https://matplotlib.org/stable/index.html"
   ]
  },
  {
   "cell_type": "code",
   "execution_count": null,
   "metadata": {
    "id": "zXqInMhWCRDp"
   },
   "outputs": [],
   "source": [
    "import matplotlib.pyplot as plt"
   ]
  },
  {
   "cell_type": "markdown",
   "metadata": {
    "id": "WZ94Rl3m2bV8"
   },
   "source": [
    "### Scikit-Learn"
   ]
  },
  {
   "cell_type": "markdown",
   "metadata": {
    "id": "SfB8HBlACjlJ"
   },
   "source": [
    "Documentation: https://scikit-learn.org/1.5/user_guide.html"
   ]
  },
  {
   "cell_type": "code",
   "execution_count": null,
   "metadata": {
    "id": "FLljRw_5Civ_"
   },
   "outputs": [],
   "source": [
    "from sklearn.tree import DecisionTreeClassifier, export_text\n",
    "from sklearn.preprocessing import LabelEncoder\n",
    "from sklearn.model_selection import train_test_split"
   ]
  },
  {
   "cell_type": "markdown",
   "metadata": {
    "id": "zpGFtZVH3uPo"
   },
   "source": [
    "Encoding"
   ]
  },
  {
   "cell_type": "code",
   "execution_count": null,
   "metadata": {},
   "outputs": [],
   "source": [
    "#one hot encoding, use get dummies of scikit learn\n",
    "dataframe = pd.get_dummies(dataframe, columns= ['age', 'menopause', 'tumor-size', 'inv-nodes', 'deg-malig', 'breast-quad'])\n",
    "dataframe = dataframe.replace({False: 0, True: 1})"
   ]
  },
  {
   "cell_type": "code",
   "execution_count": null,
   "metadata": {},
   "outputs": [],
   "source": [
    "dataframe.columns.size"
   ]
  },
  {
   "cell_type": "code",
   "execution_count": null,
   "metadata": {},
   "outputs": [],
   "source": [
    "dataframe.head()"
   ]
  },
  {
   "cell_type": "code",
   "execution_count": null,
   "metadata": {},
   "outputs": [],
   "source": [
    "dataframe.head(50)"
   ]
  },
  {
   "cell_type": "code",
   "execution_count": null,
   "metadata": {},
   "outputs": [],
   "source": [
    "print(dataframe.dtypes)\n"
   ]
  },
  {
   "cell_type": "code",
   "execution_count": null,
   "metadata": {},
   "outputs": [],
   "source": [
    "X = dataframe.copy().drop(\"Class\", axis=1)  # All columns except the last X = features\n",
    "y = dataframe[\"Class\"]   # Class column (last column) y = target"
   ]
  },
  {
   "cell_type": "code",
   "execution_count": null,
   "metadata": {},
   "outputs": [],
   "source": [
    "X.dtypes"
   ]
  },
  {
   "cell_type": "code",
   "execution_count": null,
   "metadata": {},
   "outputs": [],
   "source": [
    "y.dtypes"
   ]
  },
  {
   "cell_type": "markdown",
   "metadata": {
    "id": "TsRTU0sQ3wOG"
   },
   "source": [
    "Classifier"
   ]
  },
  {
   "cell_type": "code",
   "execution_count": null,
   "metadata": {},
   "outputs": [],
   "source": [
    "X_train, X_test, y_train, y_test = train_test_split(X, y, test_size=0.2, random_state=42)"
   ]
  },
  {
   "cell_type": "code",
   "execution_count": null,
   "metadata": {},
   "outputs": [],
   "source": [
    "from imblearn.under_sampling import RandomUnderSampler\n",
    "undersampler = RandomUnderSampler(random_state=42)\n",
    "X_train_res, y_train_res = undersampler.fit_resample(X_train, y_train)"
   ]
  },
  {
   "cell_type": "code",
   "execution_count": null,
   "metadata": {
    "id": "1xyLD27HCh9i"
   },
   "outputs": [],
   "source": [
    "# Train a Decision Tree Classifier\n",
    "clf = DecisionTreeClassifier(max_depth=5, random_state=42)\n",
    "clf.fit(X_train, y_train)"
   ]
  },
  {
   "cell_type": "code",
   "execution_count": null,
   "metadata": {},
   "outputs": [],
   "source": [
    "# Identify the most discriminative attribute\n",
    "feature_importances = clf.feature_importances_\n",
    "most_discriminative = X.columns[feature_importances.argmax()]\n",
    "print(f\"Most discriminative attribute: {most_discriminative}\")"
   ]
  },
  {
   "cell_type": "code",
   "execution_count": null,
   "metadata": {},
   "outputs": [],
   "source": [
    "# Determine the height of the tree\n",
    "tree_height = clf.get_depth()\n",
    "print(f\"Height of the Decision Tree: {tree_height}\")"
   ]
  },
  {
   "cell_type": "code",
   "execution_count": null,
   "metadata": {},
   "outputs": [],
   "source": [
    "# Find a pure partition\n",
    "tree_rules = export_text(clf, feature_names=list(X.columns))\n",
    "print(tree_rules)"
   ]
  },
  {
   "cell_type": "code",
   "execution_count": null,
   "metadata": {},
   "outputs": [],
   "source": [
    "from sklearn import tree\n",
    "\n",
    "# Visualize the tree\n",
    "plt.figure(figsize=(200, 100))\n",
    "tree.plot_tree(\n",
    "    clf,\n",
    "    feature_names=X.columns,\n",
    "    class_names=[str(c) for c in clf.classes_],  # Converte le classi in stringhe\n",
    "    filled=True\n",
    ")\n",
    "plt.show()"
   ]
  },
  {
   "cell_type": "code",
   "execution_count": null,
   "metadata": {},
   "outputs": [],
   "source": [
    "from sklearn.metrics import accuracy_score, confusion_matrix, classification_report\n",
    "\n",
    "predictions = clf.predict(X_test)"
   ]
  },
  {
   "cell_type": "code",
   "execution_count": null,
   "metadata": {},
   "outputs": [],
   "source": [
    "print(classification_report(y_test, predictions))\n",
    "print(accuracy_score(y_test, predictions))"
   ]
  },
  {
   "cell_type": "code",
   "execution_count": null,
   "metadata": {},
   "outputs": [],
   "source": [
    "#Function used to show the impact of different hyperparameters on the tree\n",
    "def train_and_plot(max_depth=None, min_samples_leaf=1, min_impurity_decrease=0.0, criterion='gini'):\n",
    "    clf = DecisionTreeClassifier(\n",
    "        criterion=criterion,\n",
    "        max_depth=max_depth,\n",
    "        min_samples_leaf=min_samples_leaf,\n",
    "        min_impurity_decrease=min_impurity_decrease,\n",
    "        random_state=42\n",
    "    )\n",
    "    clf.fit(X_train, y_train)\n",
    "    predictions = clf.predict(X_test)\n",
    "    print(classification_report(y_test, predictions))\n",
    "    print(accuracy_score(y_test, predictions))\n",
    "\n",
    "    # Plot the tree\n",
    "    plt.figure(figsize=(200, 100))\n",
    "    tree.plot_tree(clf, feature_names=X.columns, class_names=clf.classes_.astype(str), filled=True)\n",
    "    plt.title(f\"Depth: {max_depth}, Min Samples Leaf: {min_samples_leaf}, Impurity Decrease: {min_impurity_decrease}, Criterion: {criterion}\")\n",
    "    plt.show()\n"
   ]
  },
  {
   "cell_type": "code",
   "execution_count": null,
   "metadata": {},
   "outputs": [],
   "source": [
    "# Default configuration\n",
    "train_and_plot()"
   ]
  },
  {
   "cell_type": "code",
   "execution_count": null,
   "metadata": {},
   "outputs": [],
   "source": [
    "#Tota Number of rows in the dataset\n",
    "total_rows = dataframe.shape[0]\n",
    "print(f\"Total number of rows in the dataset: {total_rows}\")"
   ]
  },
  {
   "cell_type": "code",
   "execution_count": null,
   "metadata": {},
   "outputs": [],
   "source": [
    "# Configuration 1: Limited depth\n",
    "train_and_plot(max_depth=3)\n"
   ]
  },
  {
   "cell_type": "code",
   "execution_count": null,
   "metadata": {},
   "outputs": [],
   "source": [
    "# Configuration 3: Higher minimal impurity decrease\n",
    "train_and_plot(max_depth=5, min_impurity_decrease=0.01)"
   ]
  },
  {
   "cell_type": "code",
   "execution_count": null,
   "metadata": {},
   "outputs": [],
   "source": [
    "# Configuration 2: Minimum samples per leaf\n",
    "train_and_plot(min_samples_leaf=10)"
   ]
  },
  {
   "cell_type": "code",
   "execution_count": null,
   "metadata": {},
   "outputs": [],
   "source": [
    "# Configuration 3: Higher minimal impurity decrease\n",
    "train_and_plot(min_impurity_decrease=0.01, criterion='entropy')"
   ]
  },
  {
   "cell_type": "code",
   "execution_count": null,
   "metadata": {},
   "outputs": [],
   "source": [
    "#Config 4\n",
    "train_and_plot(min_samples_leaf=4, min_impurity_decrease=0.001, criterion='entropy')"
   ]
  },
  {
   "cell_type": "code",
   "execution_count": null,
   "metadata": {},
   "outputs": [],
   "source": [
    "#Config 5\n",
    "train_and_plot(max_depth=7, min_samples_leaf=10, criterion='gini')"
   ]
  },
  {
   "cell_type": "markdown",
   "metadata": {},
   "source": [
    "## DOMANDA 3"
   ]
  },
  {
   "cell_type": "code",
   "execution_count": null,
   "metadata": {},
   "outputs": [],
   "source": [
    "from sklearn.model_selection import StratifiedKFold, cross_val_predict\n",
    "from sklearn.metrics import confusion_matrix, ConfusionMatrixDisplay\n",
    "import numpy as np"
   ]
  },
  {
   "cell_type": "code",
   "execution_count": null,
   "metadata": {},
   "outputs": [],
   "source": [
    "def experiment_with_cv(X, y, max_depth=None, min_samples_leaf=1,min_samples_split=2, min_impurity_decrease=0.0, criterion='gini'):\n",
    "    clf = DecisionTreeClassifier(\n",
    "        criterion=criterion,\n",
    "        max_depth=max_depth,\n",
    "        min_samples_leaf=min_samples_leaf,\n",
    "        min_impurity_decrease=min_impurity_decrease,\n",
    "        min_samples_split=min_samples_split,\n",
    "        random_state=42\n",
    "    )\n",
    "    clf.fit(X_train, y_train)\n",
    "\n",
    "    #Stratified k fold with k = 10\n",
    "    stk10 = StratifiedKFold(n_splits=10, shuffle=True, random_state=42)\n",
    "    predictions = cross_val_predict(clf, X, y, cv=stk10) \n",
    "\n",
    "    #create confusion matrix\n",
    "    confMatrix = confusion_matrix(y, predictions)\n",
    "    print(confMatrix)\n",
    "    \n",
    "    #display confMatrix\n",
    "    accuracy = accuracy_score(y, predictions)\n",
    "    ConfusionMatrixDisplay(confusion_matrix=confMatrix, display_labels=np.unique(y)).plot(cmap='Blues')\n",
    "    plt.title(f\"Confusion Matrix (Acc: {accuracy:.2f})\\nMax Depth: {max_depth}, Min Samples Leaf: {min_samples_leaf}, Min Samples Split: {min_samples_split}, Impurity: {min_impurity_decrease}, Criterion: {criterion}\")\n",
    "    plt.show()\n",
    "\n",
    "    # Plot the tree\n",
    "    plt.figure(figsize=(200, 100))\n",
    "    tree.plot_tree(clf, feature_names=X.columns, class_names=clf.classes_.astype(str), filled=True)\n",
    "    plt.title(f\"Depth: {max_depth}, Min Samples Leaf: {min_samples_leaf}, Min Samples Split: {min_samples_split}, Impurity Decrease: {min_impurity_decrease}, Criterion: {criterion}\")\n",
    "    plt.show()\n",
    "\n",
    "    return classification_report(y, predictions)\n",
    "\n"
   ]
  },
  {
   "cell_type": "code",
   "execution_count": null,
   "metadata": {},
   "outputs": [],
   "source": [
    "#Confrep ig 1\n",
    "rep = experiment_with_cv(X, y, max_depth=3)\n",
    "print(rep)"
   ]
  },
  {
   "cell_type": "code",
   "execution_count": null,
   "metadata": {},
   "outputs": [],
   "source": [
    "rep = experiment_with_cv(X, y, max_depth=5, min_impurity_decrease=0.01)\n",
    "print(rep)"
   ]
  },
  {
   "cell_type": "code",
   "execution_count": null,
   "metadata": {},
   "outputs": [],
   "source": [
    "rep = experiment_with_cv(X, y, min_impurity_decrease=0.01, criterion='entropy')\n",
    "print(rep)"
   ]
  },
  {
   "cell_type": "code",
   "execution_count": null,
   "metadata": {},
   "outputs": [],
   "source": [
    "rep = experiment_with_cv(X, y, min_samples_leaf=4, min_impurity_decrease=0.001, criterion='entropy')\n",
    "print(rep)"
   ]
  },
  {
   "cell_type": "code",
   "execution_count": null,
   "metadata": {},
   "outputs": [],
   "source": [
    "rep = experiment_with_cv(X, y,  max_depth=7, min_samples_leaf=10, criterion='gini')\n",
    "print(rep)"
   ]
  },
  {
   "cell_type": "code",
   "execution_count": null,
   "metadata": {},
   "outputs": [],
   "source": [
    "rep = experiment_with_cv(X, y, max_depth=4, min_samples_leaf=5, min_impurity_decrease=0.005, criterion='entropy')\n",
    "print(rep)"
   ]
  },
  {
   "cell_type": "code",
   "execution_count": null,
   "metadata": {},
   "outputs": [],
   "source": [
    "#Grid Search\n",
    "from sklearn.model_selection import GridSearchCV\n",
    "\n",
    "param_grid = {\n",
    "    'max_depth': [3, 5, 7, 9, None],\n",
    "    'min_samples_leaf': [1, 2, 4, 10, 15, 20],\n",
    "    'min_samples_split': [2, 5, 10, 15, 20],\n",
    "    'min_impurity_decrease': [0.0, 0.001, 0.005, 0.01],\n",
    "    'criterion': ['gini', 'entropy']\n",
    "}\n",
    "\n",
    "clf = DecisionTreeClassifier(random_state=42)\n",
    "grid_search = GridSearchCV(clf, param_grid, cv=10)\n",
    "grid_search.fit(X, y)\n",
    "\n",
    "print(grid_search.best_params_)"
   ]
  },
  {
   "cell_type": "code",
   "execution_count": null,
   "metadata": {},
   "outputs": [],
   "source": [
    "#Use the best parameters\n",
    "rep = experiment_with_cv(X, y, **grid_search.best_params_)\n",
    "print(rep)"
   ]
  },
  {
   "cell_type": "markdown",
   "metadata": {},
   "source": [
    "## EX 4"
   ]
  },
  {
   "cell_type": "code",
   "execution_count": null,
   "metadata": {},
   "outputs": [],
   "source": [
    "from sklearn.neighbors import KNeighborsClassifier\n",
    "from sklearn.metrics import precision_score"
   ]
  },
  {
   "cell_type": "code",
   "execution_count": null,
   "metadata": {},
   "outputs": [],
   "source": [
    "def evaluate_knn_with_cv(X, y, n_neighbors=5):\n",
    "    \"\"\"\n",
    "    Train a K-NN classifier with a specific K and perform 10-fold stratified cross-validation.\n",
    "    \"\"\"\n",
    "    # Initialize the K-NN classifier\n",
    "    knn = KNeighborsClassifier(n_neighbors=n_neighbors)\n",
    "    \n",
    "    # Perform 10-fold Stratified CV\n",
    "    skf = StratifiedKFold(n_splits=10, shuffle=True, random_state=42)\n",
    "    y_pred = cross_val_predict(knn, X, y, cv=skf)\n",
    "    accuracy = accuracy_score(y, y_pred)\n",
    "    prec = precision_score(y, y_pred)\n",
    "    \n",
    "    # Generate confusion matrix\n",
    "    cm = confusion_matrix(y, y_pred)\n",
    "    ConfusionMatrixDisplay(confusion_matrix=cm, display_labels=np.unique(y)).plot(cmap='Blues')\n",
    "    plt.title(f\"Confusion Matrix (Acc: {accuracy:.2f})\\nK={n_neighbors}\")\n",
    "    plt.show()\n",
    "    \n",
    "    return accuracy\n"
   ]
  },
  {
   "cell_type": "code",
   "execution_count": null,
   "metadata": {},
   "outputs": [],
   "source": [
    "accuracies = {}\n",
    "for k in [2, 3, 4, 5, 6, 7, 8, 9, 10, 11]:\n",
    "    print(f\"Evaluating K={k}\")\n",
    "    accuracies[k] = evaluate_knn_with_cv(X, y, n_neighbors=k)\n",
    "\n",
    "# Print average accuracies\n",
    "print(\"Average Accuracies for different K values:\")\n",
    "for k, acc in accuracies.items():\n",
    "    print(f\"K={k}: Accuracy={acc:.2f}\")\n"
   ]
  },
  {
   "cell_type": "code",
   "execution_count": null,
   "metadata": {},
   "outputs": [],
   "source": [
    "k_values = np.linspace(1, 20, 20, dtype=int)  \n",
    "print(k_values)\n",
    "accuracies = {}\n",
    "\n",
    "for k in k_values:\n",
    "    print(f\"Evaluating K={k}\")\n",
    "    accuracies[k] = evaluate_knn_with_cv(X, y, n_neighbors=k)"
   ]
  },
  {
   "cell_type": "code",
   "execution_count": null,
   "metadata": {},
   "outputs": [],
   "source": [
    "# Grafico della curva di accuratezza\n",
    "plt.figure(figsize=(10, 6))\n",
    "plt.plot(k_values, list(accuracies.values()), marker='o', linestyle='-', color='b')\n",
    "plt.title(\"Accuracy vs K\")\n",
    "plt.xlabel(\"K (Number of Neighbors)\")\n",
    "plt.ylabel(\"Accuracy\")\n",
    "plt.grid(True)\n",
    "plt.show()"
   ]
  },
  {
   "cell_type": "code",
   "execution_count": null,
   "metadata": {},
   "outputs": [],
   "source": [
    "from sklearn.naive_bayes import GaussianNB\n",
    "from sklearn.model_selection import StratifiedKFold\n",
    "from sklearn.metrics import accuracy_score, confusion_matrix\n",
    "import numpy as np\n",
    "\n",
    "# Configura il modello Naïve Bayes\n",
    "naive_bayes_model = GaussianNB()\n",
    "\n",
    "# 10-Fold Stratified Cross-Validation\n",
    "skf = StratifiedKFold(n_splits=10, shuffle=True, random_state=42)\n",
    "\n",
    "accuracies_nb = []\n",
    "confusion_matrices = []\n",
    "\n",
    "for train_index, test_index in skf.split(X, y):\n",
    "    X_train, X_test = X.iloc[train_index], X.iloc[test_index]\n",
    "    y_train, y_test = y.iloc[train_index], y.iloc[test_index]\n",
    "    \n",
    "    naive_bayes_model.fit(X_train, y_train)\n",
    "    y_pred = naive_bayes_model.predict(X_test)\n",
    "    \n",
    "    accuracies_nb.append(accuracy_score(y_test, y_pred))\n",
    "    confusion_matrices.append(confusion_matrix(y_test, y_pred))\n",
    "\n",
    "# Accuratezza media\n",
    "average_accuracy_nb = np.mean(accuracies_nb)\n",
    "\n",
    "# Confusion Matrix aggregata\n",
    "confusion_matrix_total = np.sum(confusion_matrices, axis=0)\n",
    "\n",
    "print(f\"Naïve Bayes Average Accuracy: {average_accuracy_nb:.2f}\")\n",
    "print(\"Aggregated Confusion Matrix (Naïve Bayes):\")\n",
    "print(confusion_matrix_total)\n"
   ]
  },
  {
   "cell_type": "code",
   "execution_count": null,
   "metadata": {},
   "outputs": [],
   "source": [
    "from sklearn.naive_bayes import GaussianNB\n",
    "from sklearn.model_selection import cross_val_score, cross_val_predict\n",
    "from sklearn.metrics import confusion_matrix, accuracy_score\n",
    "\n",
    "# Modello Naïve Bayes\n",
    "naive_bayes_model = GaussianNB()\n",
    "skf = StratifiedKFold(n_splits=10, shuffle=True, random_state=42)\n",
    "\n",
    "# 10-Fold Cross-Validation con accuratezza\n",
    "cv_scores = cross_val_score(naive_bayes_model, X, y, cv=skf, scoring='accuracy')\n",
    "\n",
    "# Predizioni per la matrice di confusione\n",
    "y_pred_cv = cross_val_predict(naive_bayes_model, X, y, cv=skf)\n",
    "# Generate confusion matrix\n",
    "cm = confusion_matrix(y, y_pred_cv)\n",
    "ConfusionMatrixDisplay(confusion_matrix=cm, display_labels=np.unique(y)).plot(cmap='Blues')\n",
    "plt.title(f\"Confusion Matrix for Naïve Bayes Classifier\")\n",
    "plt.show()\n",
    "# Media delle accuratezze\n",
    "average_accuracy_nb = cv_scores.mean()\n",
    "\n",
    "print(f\"Naïve Bayes Average Accuracy: {average_accuracy_nb:.2f}\")\n"
   ]
  },
  {
   "cell_type": "code",
   "execution_count": null,
   "metadata": {},
   "outputs": [],
   "source": [
    "#Classification report for Naive Bayes\n",
    "from sklearn.metrics import classification_report\n",
    "print(classification_report(y, y_pred_cv))"
   ]
  },
  {
   "cell_type": "code",
   "execution_count": null,
   "metadata": {},
   "outputs": [],
   "source": [
    "#mostra classe domaninante nel dataset\n",
    "dataframe['Class'].value_counts()"
   ]
  },
  {
   "cell_type": "code",
   "execution_count": null,
   "metadata": {},
   "outputs": [],
   "source": [
    "import seaborn as sns\n",
    "\n",
    "#show the heatmap of the correlation matrix\n",
    "plt.figure(figsize=(20, 20))\n",
    "sns.heatmap(dataframe.corr(), annot=True, cmap='coolwarm', fmt=\".2f\")"
   ]
  },
  {
   "cell_type": "code",
   "execution_count": null,
   "metadata": {},
   "outputs": [],
   "source": [
    "#Try using Naive Bayes with Label Encoder instead of One Hot Encoding\n",
    "dataframe = pd.read_excel(filename)\n",
    "dataframe = dataframe.dropna()\n",
    "dataframe = dataframe[~dataframe.apply(lambda row: '?' in row.values, axis=1)]\n",
    "\n",
    "# Label Encoding\n",
    "from sklearn.preprocessing import LabelEncoder\n",
    "label_encoders = {}\n",
    "for column in dataframe.select_dtypes(include=['object']).columns:\n",
    "    le = LabelEncoder()\n",
    "    dataframe[column] = le.fit_transform(dataframe[column])\n",
    "    label_encoders[column] = le\n",
    "\n",
    "# Split features and target\n",
    "X = dataframe.iloc[:, :-1]  # All columns except the last\n",
    "y = dataframe.iloc[:, -1]   # Class column (last column)"
   ]
  },
  {
   "cell_type": "code",
   "execution_count": null,
   "metadata": {},
   "outputs": [],
   "source": [
    "dataframe.head()"
   ]
  },
  {
   "cell_type": "code",
   "execution_count": null,
   "metadata": {},
   "outputs": [],
   "source": [
    "#Naive Bayes with Label Encoding\n",
    "naive_bayes_model = GaussianNB()\n",
    "skf = StratifiedKFold(n_splits=10, shuffle=True, random_state=42)\n",
    "# 10-Fold Cross-Validation con accuratezza\n",
    "cv_scores = cross_val_score(naive_bayes_model, X, y, cv=skf, scoring='accuracy')\n",
    "\n",
    "# Predizioni per la matrice di confusione\n",
    "y_pred_cv = cross_val_predict(naive_bayes_model, X, y, cv=skf)\n",
    "\n",
    "# Media delle accuratezze\n",
    "average_accuracy_nb = cv_scores.mean()\n",
    "\n",
    "cm = confusion_matrix(y, y_pred_cv)\n",
    "ConfusionMatrixDisplay(confusion_matrix=cm, display_labels=np.unique(y)).plot(cmap='Blues')\n",
    "plt.title(f\"Confusion Matrix for Naïve Bayes Classifier with Label Encoder, Accuracy: {average_accuracy_nb:.2f}\")\n",
    "plt.show()\n",
    "\n",
    "print(f\"Naïve Bayes Average Accuracy: {average_accuracy_nb:.2f}\")\n",
    "print(classification_report(y, y_pred_cv))"
   ]
  },
  {
   "cell_type": "code",
   "execution_count": null,
   "metadata": {},
   "outputs": [],
   "source": [
    "dataframe[\"Class\"].value_counts()"
   ]
  },
  {
   "cell_type": "code",
   "execution_count": null,
   "metadata": {},
   "outputs": [],
   "source": []
  }
 ],
 "metadata": {
  "colab": {
   "collapsed_sections": [
    "WZ94Rl3m2bV8"
   ],
   "gpuType": "T4",
   "provenance": []
  },
  "kernelspec": {
   "display_name": "Python 3",
   "name": "python3"
  },
  "language_info": {
   "codemirror_mode": {
    "name": "ipython",
    "version": 3
   },
   "file_extension": ".py",
   "mimetype": "text/x-python",
   "name": "python",
   "nbconvert_exporter": "python",
   "pygments_lexer": "ipython3",
   "version": "3.9.13"
  }
 },
 "nbformat": 4,
 "nbformat_minor": 0
}
